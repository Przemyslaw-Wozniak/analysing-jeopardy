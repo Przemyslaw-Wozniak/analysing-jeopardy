{
 "cells": [
  {
   "cell_type": "code",
   "execution_count": 12,
   "metadata": {},
   "outputs": [
    {
     "name": "stdout",
     "output_type": "stream",
     "text": [
      "   Show Number    Air Date      Round                         Category  Value  \\\n",
      "0  4680         31.12.2004  Jeopardy!  HISTORY                          $200    \n",
      "1  4680         31.12.2004  Jeopardy!  ESPN's TOP 10 ALL-TIME ATHLETES  $200    \n",
      "2  4680         31.12.2004  Jeopardy!  EVERYBODY TALKS ABOUT IT...      $200    \n",
      "3  4680         31.12.2004  Jeopardy!  THE COMPANY LINE                 $200    \n",
      "4  4680         31.12.2004  Jeopardy!  EPITAPHS & TRIBUTES              $200    \n",
      "\n",
      "                                                                                                      Question  \\\n",
      "0  For the last 8 years of his life, Galileo was under house arrest for espousing this man's theory              \n",
      "1  No. 2: 1912 Olympian; football star at Carlisle Indian School; 6 MLB seasons with the Reds, Giants & Braves   \n",
      "2  The city of Yuma in this state has a record average of 4,055 hours of sunshine each year                      \n",
      "3  In 1963, live on \"The Art Linkletter Show\", this company served its billionth burger                          \n",
      "4  Signer of the Dec. of Indep., framer of the Constitution of Mass., second President of the United States      \n",
      "\n",
      "       Answer  \n",
      "0  Copernicus  \n",
      "1  Jim Thorpe  \n",
      "2  Arizona     \n",
      "3  McDonald's  \n",
      "4  John Adams  \n",
      "<class 'pandas.core.frame.DataFrame'>\n",
      "RangeIndex: 5676 entries, 0 to 5675\n",
      "Data columns (total 7 columns):\n",
      " #   Column       Non-Null Count  Dtype \n",
      "---  ------       --------------  ----- \n",
      " 0   Show Number  5676 non-null   int64 \n",
      " 1    Air Date    5676 non-null   object\n",
      " 2    Round       5676 non-null   object\n",
      " 3    Category    5676 non-null   object\n",
      " 4    Value       5676 non-null   object\n",
      " 5    Question    5676 non-null   object\n",
      " 6    Answer      5676 non-null   object\n",
      "dtypes: int64(1), object(6)\n",
      "memory usage: 310.5+ KB\n",
      "None\n"
     ]
    },
    {
     "name": "stderr",
     "output_type": "stream",
     "text": [
      "<ipython-input-12-81436d8bcbfa>:3: FutureWarning: Passing a negative integer is deprecated in version 1.0 and will not be supported in future version. Instead, use None to not limit the column width.\n",
      "  pd.set_option('display.max_colwidth', -1)\n"
     ]
    }
   ],
   "source": [
    "import pandas as pd\n",
    "#In order to disply the full contents of a column, I’ve added this line.\n",
    "pd.set_option('display.max_colwidth', -1)\n",
    "\n",
    "jeopardy = pd.read_csv(\"jeopardy.csv\")\n",
    "\n",
    "print(jeopardy.head())\n",
    "print(jeopardy.info())"
   ]
  },
  {
   "cell_type": "code",
   "execution_count": 14,
   "metadata": {},
   "outputs": [
    {
     "data": {
      "text/html": [
       "<div>\n",
       "<style scoped>\n",
       "    .dataframe tbody tr th:only-of-type {\n",
       "        vertical-align: middle;\n",
       "    }\n",
       "\n",
       "    .dataframe tbody tr th {\n",
       "        vertical-align: top;\n",
       "    }\n",
       "\n",
       "    .dataframe thead th {\n",
       "        text-align: right;\n",
       "    }\n",
       "</style>\n",
       "<table border=\"1\" class=\"dataframe\">\n",
       "  <thead>\n",
       "    <tr style=\"text-align: right;\">\n",
       "      <th></th>\n",
       "      <th>Show Number</th>\n",
       "      <th>Air Date</th>\n",
       "      <th>Round</th>\n",
       "      <th>Category</th>\n",
       "      <th>Value</th>\n",
       "      <th>Question</th>\n",
       "      <th>Answer</th>\n",
       "    </tr>\n",
       "  </thead>\n",
       "  <tbody>\n",
       "    <tr>\n",
       "      <th>0</th>\n",
       "      <td>4680</td>\n",
       "      <td>31.12.2004</td>\n",
       "      <td>Jeopardy!</td>\n",
       "      <td>HISTORY</td>\n",
       "      <td>$200</td>\n",
       "      <td>For the last 8 years of his life, Galileo was under house arrest for espousing this man's theory</td>\n",
       "      <td>Copernicus</td>\n",
       "    </tr>\n",
       "    <tr>\n",
       "      <th>1</th>\n",
       "      <td>4680</td>\n",
       "      <td>31.12.2004</td>\n",
       "      <td>Jeopardy!</td>\n",
       "      <td>ESPN's TOP 10 ALL-TIME ATHLETES</td>\n",
       "      <td>$200</td>\n",
       "      <td>No. 2: 1912 Olympian; football star at Carlisle Indian School; 6 MLB seasons with the Reds, Giants &amp; Braves</td>\n",
       "      <td>Jim Thorpe</td>\n",
       "    </tr>\n",
       "    <tr>\n",
       "      <th>2</th>\n",
       "      <td>4680</td>\n",
       "      <td>31.12.2004</td>\n",
       "      <td>Jeopardy!</td>\n",
       "      <td>EVERYBODY TALKS ABOUT IT...</td>\n",
       "      <td>$200</td>\n",
       "      <td>The city of Yuma in this state has a record average of 4,055 hours of sunshine each year</td>\n",
       "      <td>Arizona</td>\n",
       "    </tr>\n",
       "    <tr>\n",
       "      <th>3</th>\n",
       "      <td>4680</td>\n",
       "      <td>31.12.2004</td>\n",
       "      <td>Jeopardy!</td>\n",
       "      <td>THE COMPANY LINE</td>\n",
       "      <td>$200</td>\n",
       "      <td>In 1963, live on \"The Art Linkletter Show\", this company served its billionth burger</td>\n",
       "      <td>McDonald's</td>\n",
       "    </tr>\n",
       "    <tr>\n",
       "      <th>4</th>\n",
       "      <td>4680</td>\n",
       "      <td>31.12.2004</td>\n",
       "      <td>Jeopardy!</td>\n",
       "      <td>EPITAPHS &amp; TRIBUTES</td>\n",
       "      <td>$200</td>\n",
       "      <td>Signer of the Dec. of Indep., framer of the Constitution of Mass., second President of the United States</td>\n",
       "      <td>John Adams</td>\n",
       "    </tr>\n",
       "  </tbody>\n",
       "</table>\n",
       "</div>"
      ],
      "text/plain": [
       "   Show Number    Air Date      Round                         Category Value  \\\n",
       "0  4680         31.12.2004  Jeopardy!  HISTORY                          $200   \n",
       "1  4680         31.12.2004  Jeopardy!  ESPN's TOP 10 ALL-TIME ATHLETES  $200   \n",
       "2  4680         31.12.2004  Jeopardy!  EVERYBODY TALKS ABOUT IT...      $200   \n",
       "3  4680         31.12.2004  Jeopardy!  THE COMPANY LINE                 $200   \n",
       "4  4680         31.12.2004  Jeopardy!  EPITAPHS & TRIBUTES              $200   \n",
       "\n",
       "                                                                                                      Question  \\\n",
       "0  For the last 8 years of his life, Galileo was under house arrest for espousing this man's theory              \n",
       "1  No. 2: 1912 Olympian; football star at Carlisle Indian School; 6 MLB seasons with the Reds, Giants & Braves   \n",
       "2  The city of Yuma in this state has a record average of 4,055 hours of sunshine each year                      \n",
       "3  In 1963, live on \"The Art Linkletter Show\", this company served its billionth burger                          \n",
       "4  Signer of the Dec. of Indep., framer of the Constitution of Mass., second President of the United States      \n",
       "\n",
       "       Answer  \n",
       "0  Copernicus  \n",
       "1  Jim Thorpe  \n",
       "2  Arizona     \n",
       "3  McDonald's  \n",
       "4  John Adams  "
      ]
     },
     "execution_count": 14,
     "metadata": {},
     "output_type": "execute_result"
    }
   ],
   "source": [
    "#Renaming columns\n",
    "jeopardy = jeopardy.rename(columns = {\"Air Date\": \"Air Date\",  \" Round\" : \"Round\", \" Category\": \"Category\", \" Value\": \"Value\", \" Question\":\"Question\", \" Answer\": \"Answer\"})\n",
    "jeopardy.head()"
   ]
  },
  {
   "cell_type": "markdown",
   "metadata": {},
   "source": [
    "### Enabling words filtering."
   ]
  },
  {
   "cell_type": "code",
   "execution_count": 16,
   "metadata": {},
   "outputs": [
    {
     "name": "stdout",
     "output_type": "stream",
     "text": [
      "4953    Both England's King George V & FDR put their stamp of approval on this \"King of Hobbies\"\n",
      "Name: Question, dtype: object\n"
     ]
    }
   ],
   "source": [
    "#The function that filters the dataset for questions that contains all of the words in a list of words.\n",
    "\n",
    "#The function takes dataframe and desired words as an input.\n",
    "def data_filter(data, words):\n",
    "    #Defining lambda function.\n",
    "    #Lowercases all words in the list of words as well as the questions. \n",
    "    #Returns true is all of the words in the list appear in the question.\n",
    "    filter = lambda x: all(word.lower() in x.lower() for word in words)\n",
    "    #Applies the labmda function to the Question column and returns the rows where the function returned True.\n",
    "    return data.loc[data['Question'].apply(filter)]\n",
    "\n",
    "filtered = data_filter(jeopardy, [\"King\", \"England\"])\n",
    "print(filtered[\"Question\"])"
   ]
  },
  {
   "cell_type": "code",
   "execution_count": null,
   "metadata": {},
   "outputs": [],
   "source": []
  },
  {
   "cell_type": "markdown",
   "metadata": {},
   "source": [
    "### Calculating aggregate statistics for Value column."
   ]
  },
  {
   "cell_type": "code",
   "execution_count": 39,
   "metadata": {},
   "outputs": [
    {
     "name": "stdout",
     "output_type": "stream",
     "text": [
      "count    5676.000000 \n",
      "mean     753.064130  \n",
      "std      671.494457  \n",
      "min      0.000000    \n",
      "25%      400.000000  \n",
      "50%      600.000000  \n",
      "75%      1000.000000 \n",
      "max      12000.000000\n",
      "Name: Float Value, dtype: float64\n"
     ]
    }
   ],
   "source": [
    "#Turning values into folats.\n",
    "\n",
    "#Creates columns Float Value.\n",
    "jeopardy['Float Value'] = jeopardy['Value']\\\n",
    "    .apply(lambda x: float(x[1:].replace(',', '')) if x != 'None' else 0)\n",
    "    #If the value of the float column is not \"None\", \n",
    "    #then we cut off the first character (which is a dollar sign),\n",
    "    #and replace all commas with nothing, and then cast that value to a float. If the answer was \"None\", then we just enter a 0\n",
    "    \n",
    "print(jeopardy['Float Value'].describe())"
   ]
  },
  {
   "cell_type": "markdown",
   "metadata": {},
   "source": [
    "### Counting unique values."
   ]
  },
  {
   "cell_type": "code",
   "execution_count": 41,
   "metadata": {},
   "outputs": [
    {
     "name": "stdout",
     "output_type": "stream",
     "text": [
      "Germany      8\n",
      "Hawaii       8\n",
      "Louisiana    7\n",
      "Alaska       7\n",
      "Egypt        7\n",
      "Name: Answer, dtype: int64\n"
     ]
    }
   ],
   "source": [
    "def unique_answers(data):\n",
    "    return jeopardy.Answer.value_counts()\n",
    "\n",
    "print(unique_answers([\"King\", \"England\"]).head())"
   ]
  }
 ],
 "metadata": {
  "kernelspec": {
   "display_name": "Python 3",
   "language": "python",
   "name": "python3"
  },
  "language_info": {
   "codemirror_mode": {
    "name": "ipython",
    "version": 3
   },
   "file_extension": ".py",
   "mimetype": "text/x-python",
   "name": "python",
   "nbconvert_exporter": "python",
   "pygments_lexer": "ipython3",
   "version": "3.8.5"
  }
 },
 "nbformat": 4,
 "nbformat_minor": 4
}
